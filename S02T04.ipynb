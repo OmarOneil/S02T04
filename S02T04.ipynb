{
 "cells": [
  {
   "cell_type": "markdown",
   "id": "f29004f2",
   "metadata": {},
   "source": [
    "#  Exercici 1\n",
    "Crea una funció que donat un Array d’una dimensió, et faci un resum estadístic bàsic de les dades. Si detecta que l’array té més d’una dimensió, ha de mostrar un missatge d’error."
   ]
  },
  {
   "cell_type": "code",
   "execution_count": 12,
   "id": "e7c04466",
   "metadata": {},
   "outputs": [],
   "source": [
    "#import packages\n",
    "import numpy as np"
   ]
  },
  {
   "cell_type": "code",
   "execution_count": 11,
   "id": "0a3ccbc1",
   "metadata": {},
   "outputs": [
    {
     "name": "stdout",
     "output_type": "stream",
     "text": [
      "Enter the number of rows: 2\n",
      "Enter the number of columns: 2\n",
      "Enter the rows values: \n",
      "1\n",
      "2\n",
      "3\n",
      "4\n",
      "1 2 \n",
      "3 4 \n",
      "Summury stats : mean=   2.5\n",
      "Max value:  4\n"
     ]
    }
   ],
   "source": [
    "# get tne users input\n",
    "\n",
    "R = int(input('Enter the number of rows: '))\n",
    "C = int(input('Enter the number of columns: '))\n",
    "\n",
    "matrix = []\n",
    "print('Enter the rows values: ')\n",
    "\n",
    "for i in range(R):\n",
    "    a = []\n",
    "    for j in range(C):\n",
    "        a.append(int(input()))\n",
    "    matrix.append(a)\n",
    "    \n",
    "for i in range(R):\n",
    "    for j in range(C):\n",
    "        print(matrix[i][j], end = \" \")\n",
    "    print() \n",
    "# matrix to array\n",
    "arr = (np.asarray(matrix)).flatten()\n",
    "\n",
    "# condition for one dimension\n",
    "if arr.ndim >1 :\n",
    "    print (\"Error 404\")\n",
    "else : \n",
    "    #summurizing , as example max value and mean\n",
    "    print('Summury stats : mean=  ', np.mean(arr))\n",
    "    print('Max value: ' ,  np.max(arr, axis=0))\n",
    "    "
   ]
  },
  {
   "cell_type": "markdown",
   "id": "6649b42d",
   "metadata": {},
   "source": [
    "#  Exercici 2\n",
    "Crea una funció que et generi un quadrat NxN de nombres aleatoris entre el 0 i el 100."
   ]
  },
  {
   "cell_type": "code",
   "execution_count": 13,
   "id": "a6d94d7f",
   "metadata": {},
   "outputs": [
    {
     "data": {
      "text/plain": [
       "array([[47,  5, 54, 27, 96],\n",
       "       [38, 48, 78, 95, 33],\n",
       "       [89, 50, 26, 69, 36],\n",
       "       [99, 48, 84, 66, 80],\n",
       "       [10,  4, 35, 10, 17]])"
      ]
     },
     "execution_count": 13,
     "metadata": {},
     "output_type": "execute_result"
    }
   ],
   "source": [
    "# creating un quadrat N*N using numpy random function\n",
    "\n",
    "arr1 = np.random.randint(0, 100, size = (5 ,5), dtype='int')\n",
    "arr1"
   ]
  },
  {
   "cell_type": "markdown",
   "id": "c9e52c51",
   "metadata": {},
   "source": [
    "# Exercici 3\n",
    "Crea una funció que donada una taula de dues dimensions, et calculi els totals per fila i els totals per columna."
   ]
  },
  {
   "cell_type": "code",
   "execution_count": 33,
   "id": "75ec9719",
   "metadata": {},
   "outputs": [
    {
     "name": "stdout",
     "output_type": "stream",
     "text": [
      "\n",
      "Getting the Sum of each row : \n",
      "\n",
      "Sum of the row 0 = 15.0\n",
      "Sum of the row 1 = 40.0\n",
      "Sum of the row 2 = 65.0\n",
      "Sum of the row 3 = 90.0\n",
      "Sum of the row 4 = 115.0\n",
      "\n",
      "Getting the Sum of each column : \n",
      "\n",
      "Sum of the columns 0 = 55.0\n",
      "Sum of the columns 1 = 60.0\n",
      "Sum of the columns 2 = 65.0\n",
      "Sum of the columns 3 = 70.0\n",
      "Sum of the columns 4 = 75.0\n"
     ]
    }
   ],
   "source": [
    "# import numpy library as np alias\n",
    "import numpy as np\n",
    "\n",
    "# get the size m and n \n",
    "m , n = 5, 5\n",
    "\n",
    "#function to calculate sum of each row :\n",
    "def row_sum(arr) :\n",
    "    #initilaze sum\n",
    "    sum = 0\n",
    "    \n",
    "    print(\"\\nGetting the Sum of each row : \\n\")\n",
    "    \n",
    "    for i in range(m) :\n",
    "        for j in range(n) :\n",
    "            \n",
    "            sum += arr[i][j]\n",
    "        #print the row sum\n",
    "        \n",
    "        print(\"Sum of the row\",i,\"=\",sum)\n",
    "        \n",
    "        # Reset the sum \n",
    "        sum = 0\n",
    "\n",
    "#function to calculate sum of each column :\n",
    "def column_sum(arr) :\n",
    "    sum = 0\n",
    "    \n",
    "    print(\"\\nGetting the Sum of each column : \\n\")\n",
    "    \n",
    "    for i in range(m) :\n",
    "        for j in range(n) :\n",
    "            \n",
    "            sum += arr[j][i]\n",
    "        \n",
    "        #print the column sum\n",
    "        print(\"Sum of the columns\",i,\"=\",sum)\n",
    "        \n",
    "        #reset the sum\n",
    "        sum = 0\n",
    "\n",
    "# Driver \n",
    "        \n",
    "if __name__ == \"__main__\"  :    \n",
    "    \n",
    "    arr = np.zeros((5,5))\n",
    "    \n",
    "    x=1\n",
    "    \n",
    "    for i in range(m):\n",
    "        for j in range(n) : \n",
    "            arr[i][j]= x\n",
    "            \n",
    "            x+= 1\n",
    "            \n",
    "    row_sum(arr)\n",
    "    \n",
    "    column_sum(arr)"
   ]
  },
  {
   "cell_type": "markdown",
   "id": "65993e1b",
   "metadata": {},
   "source": [
    "# Exercici 4\n",
    "Implementa manualment una funció que calculi el coeficient de correlació. Informa’t-en sobre els seus usos i interpretació."
   ]
  },
  {
   "cell_type": "code",
   "execution_count": 83,
   "id": "85fd891b",
   "metadata": {},
   "outputs": [
    {
     "name": "stdout",
     "output_type": "stream",
     "text": [
      "data1 : mean=999.043 stdv=20.087 corrcoef=1.000\n",
      "data2: mean=978.936 stdv=22.219 corrcoef=1.000\n"
     ]
    }
   ],
   "source": [
    "# generate related variables\n",
    "from numpy import mean\n",
    "from numpy import std\n",
    "from numpy.random import randn\n",
    "from numpy.random import seed\n",
    "from matplotlib import pyplot\n",
    "\n",
    "seed(2)\n",
    "\n",
    "data1 = 20 * randn(1000) + 1000\n",
    "data2 = data1+(10 * randn(1000)-20)\n",
    "\n",
    "print('data1 : mean=%.3f stdv=%.3f corrcoef=%.3f' % (mean(data1), std(data1), np.corrcoef(data2)))\n",
    "print('data2: mean=%.3f stdv=%.3f corrcoef=%.3f' % (mean(data2), std(data2), np.corrcoef(data2)))\n",
    "\n",
    "\n"
   ]
  },
  {
   "cell_type": "code",
   "execution_count": 81,
   "id": "4d19edae",
   "metadata": {},
   "outputs": [
    {
     "data": {
      "text/plain": [
       "<matplotlib.collections.PathCollection at 0x7f8931a973a0>"
      ]
     },
     "execution_count": 81,
     "metadata": {},
     "output_type": "execute_result"
    },
    {
     "data": {
      "image/png": "[encoded data removed]",
      "text/plain": [
       "<Figure size 432x288 with 1 Axes>"
      ]
     },
     "metadata": {
      "needs_background": "light"
     },
     "output_type": "display_data"
    }
   ],
   "source": [
    "pyplot.scatter(data1,data2)"
   ]
  },
  {
   "cell_type": "code",
   "execution_count": null,
   "id": "bd43e9b1",
   "metadata": {},
   "outputs": [],
   "source": []
  }
 ],
 "metadata": {
  "kernelspec": {
   "display_name": "Python 3 (ipykernel)",
   "language": "python",
   "name": "python3"
  },
  "language_info": {
   "codemirror_mode": {
    "name": "ipython",
    "version": 3
   },
   "file_extension": ".py",
   "mimetype": "text/x-python",
   "name": "python",
   "nbconvert_exporter": "python",
   "pygments_lexer": "ipython3",
   "version": "3.9.7"
  }
 },
 "nbformat": 4,
 "nbformat_minor": 5
}
